{
 "cells": [
  {
   "cell_type": "markdown",
   "metadata": {},
   "source": [
    "# Hacker News Data Analysis "
   ]
  },
  {
   "cell_type": "markdown",
   "metadata": {},
   "source": [
    "Hacker News (HN) is a site started by the startup incubator Y Combinator, where user-submitted stories (known as \"posts\") are voted and commented upon, similar to reddit. Hacker News is extremely popular in technology and startup circles, and posts that make it to the top of Hacker News' listings can get hundreds of thousands of visitors as a result.\n",
    "\n"
   ]
  },
  {
   "cell_type": "markdown",
   "metadata": {},
   "source": [
    "Dataset used for this project contains commented posts (user-submitted stories).\n",
    "\n",
    "We will focus on:\n",
    "- posts where users submit specific question to the community. Such posts contain **\"Ask HN\"** string in the title.\n",
    "- posts that show user's project, ideas or anything interesting that the user want's to share with community. These posts begin with **\"Show HN\"**.\n",
    "\n",
    "**The analysis task is executed using almost pure Python, without using Pandas, NumPy, etc. libraries to practice handling fundamental python data structures.**"
   ]
  },
  {
   "cell_type": "markdown",
   "metadata": {},
   "source": [
    "## Main questions: \n",
    "\n",
    "#### 1) Do \"Ask HN\" or \"Show HN\" receive more comments on average?\n",
    "#### 2) Do posts created at a certain time receive more comments on average?"
   ]
  },
  {
   "cell_type": "markdown",
   "metadata": {},
   "source": [
    "## Dataset\n",
    "\n",
    "The dataset is available on Kaggle:\n",
    "https://www.kaggle.com/hacker-news/hacker-news-posts\n",
    "\n",
    "Now let's load the file."
   ]
  },
  {
   "cell_type": "code",
   "execution_count": 1,
   "metadata": {},
   "outputs": [],
   "source": [
    "import csv\n",
    "\n",
    "file = open('hacker_news.csv', encoding=\"utf8\")\n",
    "read = csv.reader(file)\n",
    "hn = list(read)\n",
    "\n",
    "header, hn = hn[0], hn[1:]\n"
   ]
  },
  {
   "cell_type": "markdown",
   "metadata": {},
   "source": [
    "Header of the dataset - we have 7 columns in total. Short description of each feature:\n",
    "- **id**: Unique identifier of the post\n",
    "- **title**: The title of the post\n",
    "- **url**: provides link (if post containst such URL)\n",
    "- **num_points**: The number of points of the post -> UPVOTES - DOWNVOTES\n",
    "- **num_comments**: The number of comments made on particular post\n",
    "- **author**: Username of the author\n",
    "- **created_at**: The date and time of publishing the post."
   ]
  },
  {
   "cell_type": "code",
   "execution_count": 2,
   "metadata": {},
   "outputs": [
    {
     "data": {
      "text/plain": [
       "['id', 'title', 'url', 'num_points', 'num_comments', 'author', 'created_at']"
      ]
     },
     "execution_count": 2,
     "metadata": {},
     "output_type": "execute_result"
    }
   ],
   "source": [
    "header"
   ]
  },
  {
   "cell_type": "markdown",
   "metadata": {},
   "source": [
    "First few rows of the table:\n"
   ]
  },
  {
   "cell_type": "code",
   "execution_count": 3,
   "metadata": {
    "scrolled": false
   },
   "outputs": [
    {
     "data": {
      "text/plain": [
       "[['12579008',\n",
       "  'You have two days to comment if you want stem cells to be classified as your own',\n",
       "  'http://www.regulations.gov/document?D=FDA-2015-D-3719-0018',\n",
       "  '1',\n",
       "  '0',\n",
       "  'altstar',\n",
       "  '9/26/2016 3:26'],\n",
       " ['12579005',\n",
       "  'SQLAR  the SQLite Archiver',\n",
       "  'https://www.sqlite.org/sqlar/doc/trunk/README.md',\n",
       "  '1',\n",
       "  '0',\n",
       "  'blacksqr',\n",
       "  '9/26/2016 3:24'],\n",
       " ['12578997',\n",
       "  'What if we just printed a flatscreen television on the side of our boxes?',\n",
       "  'https://medium.com/vanmoof/our-secrets-out-f21c1f03fdc8#.ietxmez43',\n",
       "  '1',\n",
       "  '0',\n",
       "  'pavel_lishin',\n",
       "  '9/26/2016 3:19'],\n",
       " ['12578989',\n",
       "  'algorithmic music',\n",
       "  'http://cacm.acm.org/magazines/2011/7/109891-algorithmic-composition/fulltext',\n",
       "  '1',\n",
       "  '0',\n",
       "  'poindontcare',\n",
       "  '9/26/2016 3:16'],\n",
       " ['12578979',\n",
       "  'How the Data Vault Enables the Next-Gen Data Warehouse and Data Lake',\n",
       "  'https://www.talend.com/blog/2016/05/12/talend-and-Â\\x93the-data-vaultÂ\\x94',\n",
       "  '1',\n",
       "  '0',\n",
       "  'markgainor1',\n",
       "  '9/26/2016 3:14']]"
      ]
     },
     "metadata": {},
     "output_type": "display_data"
    }
   ],
   "source": [
    "display(hn[:5])"
   ]
  },
  {
   "cell_type": "markdown",
   "metadata": {},
   "source": [
    "### 1) Do \"Ask HN\" or \"Show HN\" receive more comments on average?"
   ]
  },
  {
   "cell_type": "markdown",
   "metadata": {},
   "source": [
    "The initial step will be doing some filtering. We can get rows containing just \"Ask HN\" or \"Show HN\" substring. Below the code we can see resulting counts of posts in each category."
   ]
  },
  {
   "cell_type": "code",
   "execution_count": 4,
   "metadata": {},
   "outputs": [
    {
     "name": "stdout",
     "output_type": "stream",
     "text": [
      "Ask posts : 9139 in total.\n",
      "Show posts : 10158 in total.\n",
      "Other posts : 273822 in total.\n"
     ]
    }
   ],
   "source": [
    "ask_posts = []\n",
    "show_posts = []\n",
    "other_posts = []\n",
    "\n",
    "for row in hn:\n",
    "    if row[1].lower().startswith('ask hn'):\n",
    "        ask_posts.append(row)\n",
    "    elif row[1].lower().startswith('show hn'):\n",
    "        show_posts.append(row)\n",
    "    else:\n",
    "        other_posts.append(row)\n",
    "\n",
    "for count, post_type in zip([len(ask_posts), len(show_posts), len(other_posts)],['Ask posts', 'Show posts', 'Other posts']):\n",
    "    string = f'{post_type} : {count} in total.'\n",
    "    print(string)"
   ]
  },
  {
   "cell_type": "markdown",
   "metadata": {},
   "source": [
    "**Which of the category receives more comments on average ?** Now we can derive this information easily. Only things we need is to find calculate average value of 5th column (of index 4)."
   ]
  },
  {
   "cell_type": "code",
   "execution_count": 5,
   "metadata": {},
   "outputs": [
    {
     "name": "stdout",
     "output_type": "stream",
     "text": [
      "Category \"Ask_posts\" has 10.393478498741656 comments per post on average.\n",
      "Category \"Show_posts\" has 4.886099625910612 comments per post on average.\n",
      "Category \"Other_posts\" has 6.4572678601427205 comments per post on average.\n"
     ]
    }
   ],
   "source": [
    "for category_name, category in zip(['Ask_posts', 'Show_posts', 'Other_posts'], [ask_posts, show_posts, other_posts]):\n",
    "    \n",
    "    com_total = 0\n",
    "    length = len(category)\n",
    "    \n",
    "    for row in category:\n",
    "        \n",
    "        com_total += int(row[4])\n",
    "    \n",
    "    average = com_total / length\n",
    "    \n",
    "    string = f'Category \"{category_name}\" has {average} comments per post on average.'\n",
    "    print(string)"
   ]
  },
  {
   "cell_type": "markdown",
   "metadata": {},
   "source": [
    "As we see in the result, posts where people ask something have about twice amount of comments as \"Show_posts\". Good news for common Googlers !\n",
    "The comparison shows that there is wider spectrum of post types on HN. Our choice of \"Ask_posts\" and \"Show_posts\" represent just specific subset."
   ]
  },
  {
   "cell_type": "markdown",
   "metadata": {},
   "source": [
    "### 2) Do posts created at a certain time receive more comments on average?"
   ]
  },
  {
   "cell_type": "markdown",
   "metadata": {},
   "source": [
    "Now to the next point. We'll try to determine if posts created at certain time are more likely to attract comments. At first, we calcualte amount of post for each hour in the day, along with the count of post's comments. Information of time of publishing can be obtained from the last column of our dataset."
   ]
  },
  {
   "cell_type": "code",
   "execution_count": 12,
   "metadata": {
    "scrolled": false
   },
   "outputs": [],
   "source": [
    "import datetime as dt\n",
    "\n",
    "hours_post_count = {}\n",
    "hours_comment_count = {}\n",
    "\n",
    "for category_name, category in zip(['Ask_posts', 'Show_posts', 'Other_posts'], [ask_posts, show_posts, other_posts]):\n",
    "    \n",
    "    hours_post_count[category_name] = {}\n",
    "    hours_comment_count[category_name] = {}\n",
    "    \n",
    "    for row in category:  \n",
    "        n_of_comments = int(row[4])\n",
    "        time_info = dt.datetime.strptime(row[-1], '%m/%d/%Y %H:%M')\n",
    "#         print(time_info.hour, n_of_comments)\n",
    "        \n",
    "        if time_info.strftime('%H') not in hours_post_count[category_name]:\n",
    "            hours_post_count[category_name][time_info.strftime('%H')] = 1\n",
    "        else:\n",
    "            hours_post_count[category_name][time_info.strftime('%H')] += 1\n",
    "            \n",
    "        if time_info.strftime('%H') not in hours_comment_count[category_name]:\n",
    "            hours_comment_count[category_name][time_info.strftime('%H')] = n_of_comments\n",
    "        else:\n",
    "            hours_comment_count[category_name][time_info.strftime('%H')] += n_of_comments\n",
    "\n",
    "\n"
   ]
  },
  {
   "cell_type": "code",
   "execution_count": 23,
   "metadata": {
    "scrolled": false
   },
   "outputs": [
    {
     "name": "stdout",
     "output_type": "stream",
     "text": [
      "POSTS FOR EACH HOUR:\n",
      "Ask_posts for each hour in total :  \n",
      " {'02': 269, '01': 282, '22': 383, '21': 518, '19': 552, '17': 587, '15': 646, '14': 513, '13': 444, '11': 312, '10': 282, '09': 222, '07': 226, '03': 271, '23': 343, '20': 510, '16': 579, '08': 257, '00': 301, '18': 614, '12': 342, '04': 243, '06': 234, '05': 209} \n",
      "\n",
      "\n",
      " COMMENTS IN TOTAL FOR EACH HOUR\n",
      "Show_posts for each hour in total :  \n",
      " {'00': 276, '23': 319, '20': 525, '19': 556, '18': 656, '16': 801, '14': 696, '10': 323, '09': 302, '08': 316, '06': 192, '03': 206, '21': 430, '17': 761, '15': 836, '11': 402, '07': 236, '04': 194, '13': 610, '12': 516, '01': 247, '22': 377, '02': 209, '05': 172} \n",
      "\n",
      "\n",
      " COMMENTS IN TOTAL FOR EACH HOUR\n",
      "Other_posts for each hour in total :  \n",
      " {'03': 6649, '02': 6977, '01': 7391, '00': 8391, '23': 9720, '22': 11657, '21': 13568, '20': 14920, '19': 15929, '18': 17406, '17': 18363, '16': 18790, '15': 18043, '14': 16929, '13': 14874, '12': 11876, '11': 9638, '10': 9130, '09': 8528, '08': 7930, '07': 7338, '06': 6954, '05': 6155, '04': 6666} \n",
      "\n",
      "\n",
      " COMMENTS IN TOTAL FOR EACH HOUR\n",
      "Ask_posts total comments each hour :  \n",
      " {'02': 2996, '01': 2089, '22': 3372, '21': 4500, '19': 3954, '17': 5547, '15': 18525, '14': 4972, '13': 7245, '11': 2797, '10': 3013, '09': 1477, '07': 1585, '03': 2154, '23': 2297, '20': 4462, '16': 4466, '08': 2362, '00': 2277, '18': 4877, '12': 4234, '04': 2360, '06': 1587, '05': 1838} \n",
      "\n",
      "Show_posts total comments each hour :  \n",
      " {'00': 1283, '23': 1444, '20': 2183, '19': 2791, '18': 3242, '16': 3769, '14': 3839, '10': 1228, '09': 1411, '08': 1771, '06': 904, '03': 934, '21': 1759, '17': 3236, '15': 3824, '11': 2413, '07': 1577, '04': 978, '13': 3314, '12': 3609, '01': 1006, '22': 1450, '02': 1076, '05': 592} \n",
      "\n",
      "Other_posts total comments each hour :  \n",
      " {'03': 42763, '02': 50100, '01': 47756, '00': 55491, '23': 58378, '22': 68059, '21': 79996, '20': 88320, '19': 101127, '18': 112502, '17': 118217, '16': 116322, '15': 115286, '14': 108277, '13': 106302, '12': 90082, '11': 71072, '10': 59147, '09': 56141, '08': 49804, '07': 44424, '06': 43050, '05': 41773, '04': 43753} \n",
      "\n"
     ]
    }
   ],
   "source": [
    "print('POSTS FOR EACH HOUR:')\n",
    "for posts_type in hours_post_count:\n",
    "    \n",
    "    string = f'{posts_type} for each hour in total : '\n",
    "    print(string,'\\n', hours_post_count[posts_type],'\\n')\n",
    "\n",
    "    print('\\n', 'COMMENTS IN TOTAL FOR EACH HOUR')\n",
    "for posts_type in hours_post_count:\n",
    "    string = f'{posts_type} total comments each hour : '\n",
    "    print(string,'\\n', hours_comment_count[posts_type],'\\n')"
   ]
  },
  {
   "cell_type": "markdown",
   "metadata": {},
   "source": [
    "\n",
    "Having the data above, we can calculate average number of comments for posts created during each hour of the day. In the end, just few hours having highest average comment count are displayed (for each category of posts)."
   ]
  },
  {
   "cell_type": "code",
   "execution_count": 64,
   "metadata": {},
   "outputs": [
    {
     "name": "stdout",
     "output_type": "stream",
     "text": [
      "Ask_posts \n",
      " [['15', 28.676470588235293], ['13', 16.31756756756757], ['12', 12.380116959064328], ['02', 11.137546468401487], ['10', 10.684397163120567], ['04', 9.7119341563786]] \n",
      "\n",
      "Show_posts \n",
      " [['12', 6.994186046511628], ['07', 6.682203389830509], ['11', 6.002487562189055], ['08', 5.6044303797468356], ['14', 5.515804597701149], ['13', 5.432786885245902]] \n",
      "\n",
      "Other_posts \n",
      " [['12', 7.58521387672617], ['11', 7.374144013280763], ['02', 7.1807367063207685], ['13', 7.146833400564744], ['05', 6.786839967506093], ['00', 6.613156953879156]] \n",
      "\n"
     ]
    }
   ],
   "source": [
    "import pprint\n",
    "\n",
    "avg_by_hour = {}\n",
    "for category in hours_post_count:\n",
    "    \n",
    "    avg_by_hour[category] = []\n",
    "    \n",
    "    for hour in hours_post_count[category]:\n",
    "        avg_by_hour[category].append([hour,hours_comment_count[category][hour]/hours_post_count[category][hour]])\n",
    "    \n",
    "    \n",
    "    result = sorted(avg_by_hour[category], key=lambda x: x[1], reverse=True)[:6]\n",
    "    print(category,'\\n',result,'\\n')"
   ]
  },
  {
   "cell_type": "markdown",
   "metadata": {},
   "source": [
    "## Conclusion"
   ]
  },
  {
   "cell_type": "markdown",
   "metadata": {},
   "source": [
    "Having these results, we can see that if you submit question type post, the best  time to publish it would be between noon and 3PM to get the most comments. In remaining categories, there is similar trend. Note that the time zone is Eastern Time in the US, so comments submitted right after midnight could possibly come from another part of the world. Or it could be just that geeks are up until the morning."
   ]
  },
  {
   "cell_type": "code",
   "execution_count": null,
   "metadata": {},
   "outputs": [],
   "source": []
  }
 ],
 "metadata": {
  "kernelspec": {
   "display_name": "Python 3",
   "language": "python",
   "name": "python3"
  },
  "language_info": {
   "codemirror_mode": {
    "name": "ipython",
    "version": 3
   },
   "file_extension": ".py",
   "mimetype": "text/x-python",
   "name": "python",
   "nbconvert_exporter": "python",
   "pygments_lexer": "ipython3",
   "version": "3.8.1"
  }
 },
 "nbformat": 4,
 "nbformat_minor": 4
}
